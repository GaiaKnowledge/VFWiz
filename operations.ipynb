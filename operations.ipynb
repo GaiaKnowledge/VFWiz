{
 "cells": [
  {
   "cell_type": "code",
   "execution_count": 53,
   "metadata": {
    "collapsed": true
   },
   "outputs": [],
   "source": [
    "import numpy as np\n",
    "import matplotlib.pyplot as plt\n",
    "import math\n",
    "import pandas as pd"
   ]
  },
  {
   "cell_type": "code",
   "execution_count": 34,
   "metadata": {
    "collapsed": true
   },
   "outputs": [],
   "source": [
    "## Input variables are iVariables\n",
    "\n",
    "iName = \"UTC\"\n",
    "iLocation = \"Liverpool\"\n",
    "iLocation_type = \"Urban\" #Urban, Semi-urban or rural\n",
    "iSize = 20 #square-metres\n",
    "iStaff = 0 #not sure how many staff or hours\n",
    "iStart = \"01/04/2019\"\n",
    "iType = \"Indoor\"\n",
    "iSystem = ['ZipTowers', 21] #System type, quantity of racks\n",
    "iLights = [\"Example\", \"water\", 210, 200, 18] #Type of Light, cooling type, Qty, Wattage, Hours per day\n",
    "iPlumbing =['Example',1800, 45] #Type of Plumbing kit, wattage, 1 system per X amount of rack units\n",
    "iClimate = np.array([['','Control System','CO2 Injector','Dehumidifer','Inline Fans'],\n",
    "                   ['Quantity', 0,1,1,0],\n",
    "                   ['Watts',100,60,1350,198],\n",
    "                   ['Hours on per day', 24,16,18,24]])\n",
    "iSeedling = np.array([['','Pumps','Lights'],\n",
    "                   ['Quantity', 1,9],\n",
    "                   ['Watts',33,54],\n",
    "                   ['Hours on per day', 1,16]])\n",
    "\n",
    "iHVAC = np.array([['','Heating','Ventilation'],\n",
    "                   ['Watts' ,0,0],\n",
    "                   ['Hours on per day', 1,16]])\n",
    "iAnnual_rent = 23000 #in outreach\n",
    "iRTQ = 80\n",
    "iwater_price = 3.20/1000 #United utilities £3.20 per 1000 UK litres\n",
    "iwaterstandingcharge =  63.77 #United utilities £63.77 standing charge\n",
    "ienergy_price = 0.125 #UK-Power 12.5p per kWH\n",
    "ienergystandingcharge = 85 #£85 standing charge\n",
    "itax = 0 # Council tax\n",
    "iinternet = 0 # Cost of internet per month"
   ]
  },
  {
   "cell_type": "code",
   "execution_count": 74,
   "metadata": {},
   "outputs": [
    {
     "name": "stdout",
     "output_type": "stream",
     "text": [
      "[['' 'Control System' 'CO2 Injector' 'Dehumidifer' 'Inline Fans']\n ['Quantity' '0' '1' '1' '0']\n ['Watts' '100' '60' '1350' '198']\n ['Hours on per day' '24' '16' '18' '24']]\nControl System\n"
     ]
    }
   ],
   "source": [
    ""
   ]
  },
  {
   "cell_type": "code",
   "execution_count": 71,
   "metadata": {},
   "outputs": [],
   "source": []
  },
  {
   "cell_type": "code",
   "execution_count": 63,
   "metadata": {},
   "outputs": [],
   "source": [
    "def labour(size,staff):\n",
    "    \n",
    "    if staff == 0:\n",
    "        staff = 0.0155004*size \n",
    "        #0.00144/sq-ft or 0.00007sq-ft for greenhouses\n",
    "    else:\n",
    "        staff = staff        \n",
    "    if size < 930: #square-meters\n",
    "        wages = 10229.63*staff #$13348.60 per person\n",
    "    else:\n",
    "        size > 930 #square-metres\n",
    "        wages = 19866.07*staff #$25923.14 per person\n",
    "    monthly_wages = wages/12\n",
    "    return(monthly_wages)"
   ]
  },
  {
   "cell_type": "code",
   "execution_count": 27,
   "metadata": {},
   "outputs": [
    {
     "name": "stdout",
     "output_type": "stream",
     "text": [
      "264.27226142\n"
     ]
    }
   ],
   "source": [
    "labour_wages = labour(iSize, iStaff)\n",
    "print(labour_wages)"
   ]
  },
  {
   "cell_type": "code",
   "execution_count": 35,
   "metadata": {},
   "outputs": [],
   "source": [
    "def Energy_Lights(System,Lights,energy_price): #Daily cost of energy\n",
    "    \n",
    "    if Lights[0] != \"unknown\" and Lights[2] != 0:\n",
    "     \n",
    "        light_wattage = Lights[2]*Lights[3]/1000 #Lighting kW farm usage *qty x wattage\n",
    "        kWh_daily_lights = light_wattage*Lights[4] #kWh consumption from lights per day\n",
    "        lights_daily_cost = kWh_daily_lights*ienergy_price\n",
    "        return(lights_daily_cost)\n",
    "    \n",
    "    elif System[0] == 'unknown' and Lights[0] == 'unknown':\n",
    "        return('unknown')\n",
    "        \n",
    "    else:\n",
    "        System[0] == 'ZipTower' and Lights[0] == \"unknown\"\n",
    "        \n",
    "        if Lights[1] == \"air\":\n",
    "            Lights[2] = System[1]*26 #Number of racks x 26\n",
    "            Lights[3] = 48 #48W for air-cooled\n",
    "            light_wattage = Lights[2]*Lights[3]/1000 #Lighting kW farm usage qty x wattage\n",
    "            kWh_daily_lights = light_wattage*Lights[4] #light wattage and hours on per day\n",
    "            lights_daily_costs = kWh_daily_lights*energy_price #daily kWh x price\n",
    "\n",
    "        else:\n",
    "            Lights[1] == 'water'\n",
    "            Lights[2] = System[1]*10 #Number of racks x 10\n",
    "            Lights[3] = 200 #200W for water-cooled\n",
    "            light_wattage = Lights[2]*Lights[3]/1000 #Lighting kW farm usage qty x wattage\n",
    "            kWh_daily_lights = light_wattage*Lights[4] #light wattage and hours on per day\n",
    "            lights_daily_costs = kWh_daily_lights*energy_price #daily kWh x price\n",
    "            \n",
    "    return(lights_daily_costs)"
   ]
  },
  {
   "cell_type": "code",
   "execution_count": 36,
   "metadata": {},
   "outputs": [
    {
     "name": "stdout",
     "output_type": "stream",
     "text": [
      "94.5\n"
     ]
    }
   ],
   "source": [
    "test = Energy_Lights(iSystem,iLights)\n",
    "print(test)"
   ]
  },
  {
   "cell_type": "code",
   "execution_count": 75,
   "metadata": {},
   "outputs": [],
   "source": [
    "def Energy_Climate(Climate,energy_price):\n",
    "    \n",
    "    Control_kWh_daily = Climate[1,1]*Climate[1,2]*Climate[1,3]/1000 # System control: Quantity x Watts x Hours /1000\n",
    "    Injector_kWh_daily = Climate[2,1]*Climate[2,2]*Climate[2,3]/1000 # CO2 Injector: Quantity x Watts x Hours /1000\n",
    "    Dehumidifier_kWh_daily = Climate[3,1]*Climate[3,2]*Climate[3,3]/1000 # Dehumidifier: Quantity x Watts x Hours /1000\n",
    "    Fans_kWh_daily = Climate[4,1]*Climate[4,2]*Climate[4,3]/1000 # Inline Fans: Quantity x Watts x Hours /1000\n",
    "    \n",
    "    Climate_energy = Control_kWh_daily + Injector_kWh_daily + Dehumidifier_kWh_daily + Fans_kWh_daily\n",
    "    \n",
    "    daily_cost_climate = Climate_energy * energy_price\n",
    "    return(daily_cost_climate)"
   ]
  },
  {
   "cell_type": "code",
   "execution_count": null,
   "metadata": {},
   "outputs": [],
   "source": [
    "def Energy_Plumbing(System,Plumbing_kit,energy_price):\n",
    "    \n",
    "    if System[0] == 'ZipTower':\n",
    "        if System[1] < Plumbing_kit[2]: #If System rack units is less than Plumbing system capacity\n",
    "            nPlumbing_kits = 1 # number of plumbing kits\n",
    "        \n",
    "        else:\n",
    "            System[1] >= Plumbing_kit[2] # If system rack units is more than or equal to plumbing capacity\n",
    "            nPlumbing_kits = math.ceil(System[1]/Plumbing_kit[2]) # Round number System units / plumbing capacity\n",
    "        \n",
    "        Pumps_farm_usage = nPlumbing_kits*Plumbing_kit[1]/1000 #kW of Pumps\n",
    "        Pumps_kWh_daily = Pumps_farm_usage*24\n",
    "        Pumps_daily_cost = Pumps_kWh_daily*energy_price\n",
    "        \n",
    "    else:\n",
    "        System[0] != 'unknown'\n",
    "        Pumps_daily_cost = 'unknown'\n",
    "    \n",
    "    return(Pumps_daily_cost)"
   ]
  },
  {
   "cell_type": "code",
   "execution_count": 11,
   "metadata": {},
   "outputs": [
    {
     "ename": "SyntaxError",
     "evalue": "invalid syntax (<ipython-input-11-957d6ff8591f>, line 1)",
     "traceback": [
      "\u001b[0;36m  File \u001b[0;32m\"<ipython-input-11-957d6ff8591f>\"\u001b[0;36m, line \u001b[0;32m1\u001b[0m\n\u001b[0;31m    def Energy_HVAC\u001b[0m\n\u001b[0m                   ^\u001b[0m\n\u001b[0;31mSyntaxError\u001b[0m\u001b[0;31m:\u001b[0m invalid syntax\n"
     ],
     "output_type": "error"
    }
   ],
   "source": [
    "def Energy_HVAC(energy_price,HVAC):\n",
    "    \n",
    "    Heating = HVAC[1,1] #power requirements\n",
    "    Heating_time = HVAC[1,2}\n",
    "    Heating_consumption = Heating*Heating_time/1000 #kWh per day for heating\n",
    "    Ventilation = HVAC[2,1]\n",
    "    Ventilation_time = HVAC[2,2] #ventilation requirements\n",
    "    Ventilation_consumption = Ventilation*Ventilation_time/1000 #kWh per day for ventilation\n",
    "    \n",
    "    Energy_consumption = Heating_consumption + Ventilation_consumption #Energy consumption kWh per day\n",
    "    costs = Energy_consumption*energy_price\n",
    "    \n",
    "    return(costs)"
   ]
  },
  {
   "cell_type": "code",
   "execution_count": 76,
   "metadata": {},
   "outputs": [],
   "source": [
    "def Energy_Seedling(Seedling_kit,energy_price): #Should be split up into Pump. Lights and hours.\n",
    "    \n",
    "    \n",
    "    Pumps_kWh_daily = Seedling_kit[1,1]*Seedling_kit[1,2]*Seedling_kit[1,3]/1000 # Pumps: Quantity x Watts x Hours /1000\n",
    "    Lights_kWh_daily = Seedling_kit[2,1]*Seedling_kit[2,2]*Seedling_kit[2,3]/1000 # Lights: Quantity x Watts x Hours /1000\n",
    "    \n",
    "    Seedling_total_kWh = Pumps_kWh_daily + Lights_kWh_daily\n",
    "    \n",
    "    daily_cost_seedling = Seedling_total_kWh * energy_price\n",
    "    \n",
    "    return daily_cost_seedling"
   ]
  },
  {
   "cell_type": "code",
   "execution_count": 77,
   "metadata": {},
   "outputs": [],
   "source": [
    "def Energy(Energy_Lights, Energy_Plumbing, Energy_Climate, Energy_HVAC, Energy_Seedling, Energy_pricing, size): # Rack or Tower Quantities\n",
    "    if Energy_Lights != \"unknown\": \n",
    "        consumption = Energy_Lights + Energy_Plumbing + Energy_Climate + Energy_Plumbing + Energy_HVAC + Energy_Seedling #Daily consumption of energy\n",
    "    else:\n",
    "        Energy_Lights == \"unknown\"\n",
    "        energy_demand = size*15 # 14-17 kWh per square-metre average energy for hydroponic plant factory (Xydis et al, 2017)\n",
    "        consumption = energy_demand * 20 # ASSUMPTION: demand x 20 hours (as lights are run 18h, climate control and irrigation 24h)\n",
    "    \n",
    "    costs = consumption*Energy_pricing # daily\n",
    "    return(costs)"
   ]
  },
  {
   "cell_type": "code",
   "execution_count": 79,
   "metadata": {},
   "outputs": [],
   "source": [
    "def Water(System,RTQ,water_price,size): # Rack or Tower Quantities\n",
    "    \n",
    "    if System == \"ZipTower\":\n",
    "        water_consumption = RTQ * 0.95 * 30 #Litres of water per tower per day (0.25 gallons) multiplied by month\n",
    "        water_buffer = 1900 #Litres of water for buffer per month (500 gallons)\n",
    "        water_consumption += water_buffer #Water consumption could be used here.\n",
    "    else:\n",
    "        water_consumptiona = size * 200 #Average from Agrilyst survey - 4 Gallons per sq ft per year\n",
    "        water_consumption = water_consumptiona/12 # consumption per month\n",
    "        \n",
    "    water_cost = water_consumption * water_price #monthly cost of water\n",
    "    return(water_cost)"
   ]
  },
  {
   "cell_type": "code",
   "execution_count": 15,
   "metadata": {},
   "outputs": [],
   "source": [
    "def utilitiesM(Energy, Water, Internet, Carbon): #£ per month\n",
    "    cost_of_utilities_monthly = (Energy*30) + Water + Internet + Carbon\n",
    "    return cost_of_utilities_monthly\n",
    "# Includes Energy consumption, water consumption, internet"
   ]
  },
  {
   "cell_type": "code",
   "execution_count": 16,
   "metadata": {},
   "outputs": [
    {
     "ename": "SyntaxError",
     "evalue": "invalid syntax (<ipython-input-16-987e13b691a3>, line 1)",
     "traceback": [
      "\u001b[0;36m  File \u001b[0;32m\"<ipython-input-16-987e13b691a3>\"\u001b[0;36m, line \u001b[0;32m1\u001b[0m\n\u001b[0;31m    def annualcosts(energystandingcharge,waterstandingcharge,tax)\u001b[0m\n\u001b[0m                                                                 ^\u001b[0m\n\u001b[0;31mSyntaxError\u001b[0m\u001b[0;31m:\u001b[0m invalid syntax\n"
     ],
     "output_type": "error"
    }
   ],
   "source": [
    "def annualcosts(energystandingcharge,waterstandingcharge,tax)\n",
    "    costs = energystandingcharge + waterstandingcharge + tax\n",
    "    return(costs)"
   ]
  },
  {
   "cell_type": "code",
   "execution_count": null,
   "metadata": {},
   "outputs": [],
   "source": [
    "def rent(Annual_rent,Size,Location,Location_type): \n",
    "    if Annual_rent == \"unknown\":\n",
    "        print(\"Size: \", Size, \"m^2\")\n",
    "        print(\"Location: \", Location)\n",
    "        print(\"Location Type: \", Location_type)\n",
    "        print('Please enter an annual rent in pounds (£) for the spec')\n",
    "    else:\n",
    "        Monthly_rent = Annual_rent/12 \n",
    "        return(Monthly_rent)\n",
    "\n"
   ]
  },
  {
   "cell_type": "code",
   "execution_count": 19,
   "metadata": {},
   "outputs": [],
   "source": [
    "# def ShipPack"
   ]
  },
  {
   "cell_type": "code",
   "execution_count": 20,
   "metadata": {},
   "outputs": [
    {
     "ename": "SyntaxError",
     "evalue": "invalid syntax (<ipython-input-20-3fc537738e39>, line 9)",
     "traceback": [
      "\u001b[0;36m  File \u001b[0;32m\"<ipython-input-20-3fc537738e39>\"\u001b[0;36m, line \u001b[0;32m9\u001b[0m\n\u001b[0;31m    OpEx +=\u001b[0m\n\u001b[0m           ^\u001b[0m\n\u001b[0;31mSyntaxError\u001b[0m\u001b[0;31m:\u001b[0m invalid syntax\n"
     ],
     "output_type": "error"
    }
   ],
   "source": [
    "OpEx: int = 0\n",
    "#def OpEx(days,Labour,Shipping,Utilities,Rent,Inputs,Packaging,Misc)\n",
    "days = 365\n",
    "for i in range(days):\n",
    "    if i % 30 == 0:\n",
    "        OpEx += labour(iSize, iStaff) \n",
    "        OpEx += rent(iAnnual_rent, iSize, iLocation, iLocation_type)\n",
    "        OpEx += utilitiesM(Energy,Water,Internet, Carbon)\n",
    "        OpEx +=\n",
    "        OpEx +=\n",
    "    else: i % 365 == 0 \n",
    "        OpEx += annualcosts(ienergystandingcharge,iwaterstandingcharge,itax)\n",
    "print(OpEx) \n",
    "\n",
    "\n",
    "#Operations = Labour + Shipping +Utilities + Rent + Inputs + Packaging\n",
    "#Inputs = Seeds + Nutrients + Grow Media"
   ]
  },
  {
   "cell_type": "code",
   "execution_count": 21,
   "metadata": {},
   "outputs": [],
   "source": []
  },
  {
   "cell_type": "code",
   "execution_count": 21,
   "metadata": {},
   "outputs": [],
   "source": []
  }
 ],
 "metadata": {
  "kernelspec": {
   "display_name": "Python 3",
   "language": "python",
   "name": "python3"
  },
  "language_info": {
   "codemirror_mode": {
    "name": "ipython",
    "version": 3
   },
   "file_extension": ".py",
   "mimetype": "text/x-python",
   "name": "python",
   "nbconvert_exporter": "python",
   "pygments_lexer": "ipython3",
   "version": "3.7.2"
  }
 },
 "nbformat": 4,
 "nbformat_minor": 1
}
