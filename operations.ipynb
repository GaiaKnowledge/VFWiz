{
 "cells": [
  {
   "cell_type": "code",
   "execution_count": null,
   "metadata": {
    "collapsed": true
   },
   "outputs": [],
   "source": [
    "import numpy as np\n",
    "import matplotlib.pyplot as plt\n",
    "import math\n",
    "import pandas as pd"
   ]
  },
  {
   "cell_type": "code",
   "execution_count": 154,
   "metadata": {
    "collapsed": true
   },
   "outputs": [],
   "source": [
    "# Input variables are iVariables\n",
    "\n",
    "iName = \"UTC\"\n",
    "iLocation = \"Liverpool\"\n",
    "iLocation_type = \"Urban\"  # Urban, Semi-urban or rural\n",
    "iSize = 20  # square-metres\n",
    "iStaff = 0  # not sure how many staff or hours\n",
    "iStart = \"01/04/2019\"\n",
    "iType = \"Indoor\"\n",
    "iSystem = ['ZipTowers', 21]  # System type, quantity of racks\n",
    "iLights = [\"Example\", \"water\", 210, 200, 18] # Type of Light, cooling type, Qty, Wattage, Hours per day\n",
    "iPlumbing =['Example', 1800, 45]  # Type of Plumbing kit, wattage, 1 system per X amount of rack units\n",
    "iClimate = np.array(\n",
    "                    [['', 'Control System', 'CO2 Injector', 'Dehumidifier', 'Inline Fans'],\n",
    "                     ['Quantity', 0, 1, 1, 0],\n",
    "                     ['Watts', 100, 60, 1350, 198],\n",
    "                     ['Hours on per day', 24,16, 18, 24]]\n",
    "                    )\n",
    "iSeedling = np.array(\n",
    "                     [['', 'Pumps', 'Lights'],\n",
    "                      ['Quantity', 1, 9],\n",
    "                      ['Watts', 33, 54],\n",
    "                      ['Hours on per day', 1, 16]]\n",
    "                    )\n",
    "\n",
    "iHVAC = np.array(\n",
    "                 [['', 'Heating', 'Ventilation', 'AC'],\n",
    "                  ['Watts', 0, 0, 0],\n",
    "                  ['Hours on per day', 1, 16, 10]]\n",
    "                 )\n",
    "\n",
    "iAnnual_rent = 23000  # in outreach\n",
    "iRTQ = 80\n",
    "iwater_price = 3.20/1000  # United utilities £3.20 per 1000 UK litres\n",
    "iwaterstandingcharge = 63.77  # United utilities £63.77 standing charge\n",
    "ienergy_price = 0.125  # UK-Power 12.5p per kWH\n",
    "ienergystandingcharge = 85  # £85 standing charge\n",
    "itax = 0  # Council tax\n",
    "iinternet = 0  # Cost of internet per month\n"
   ]
  },
  {
   "cell_type": "code",
   "execution_count": 155,
   "metadata": {},
   "outputs": [],
   "source": [
    "def labour(size = iSize, staff = iStaff):  # Very BASIC assumptions based on size\n",
    "    \n",
    "    if staff == 0:\n",
    "        staff = 0.0155004*size \n",
    "        # 0.00144/sq-ft or 0.00007sq-ft for greenhouses\n",
    "    else:\n",
    "        staff = staff        \n",
    "    if size < 930:  # square-meters\n",
    "        wages = 10229.63*staff  # $13348.60 per person\n",
    "    else:\n",
    "        size > 930  # square-metres\n",
    "        wages = 19866.07*staff  # $25923.14 per person\n",
    "    monthly_wages = wages/12\n",
    "    \n",
    "    return monthly_wages\n"
   ]
  },
  {
   "cell_type": "code",
   "execution_count": 156,
   "metadata": {},
   "outputs": [
    {
     "name": "stdout",
     "output_type": "stream",
     "text": [
      "264.27226142\n"
     ]
    }
   ],
   "source": [
    "labour_wages = labour(iSize, iStaff)\n",
    "print(labour_wages)\n"
   ]
  },
  {
   "cell_type": "code",
   "execution_count": 157,
   "metadata": {},
   "outputs": [],
   "source": [
    "def energy_lights(System = iSystem, Lights = iLights, energy_price = ienergy_price):  # Daily cost of energy \n",
    "    \n",
    "    if Lights[0] != \"unknown\" and Lights[2] != 0:\n",
    "     \n",
    "        light_wattage = Lights[2]*Lights[3]/1000  # Lighting kW farm usage *qty x wattage\n",
    "        kWh_daily_lights = light_wattage*Lights[4]  # kWh consumption from lights per day\n",
    "        lights_daily_cost = kWh_daily_lights*ienergy_price\n",
    "        return lights_daily_cost\n",
    "    \n",
    "    elif System[0] == 'unknown' and Lights[0] == 'unknown':\n",
    "        return 'unknown'\n",
    "        \n",
    "    else:\n",
    "        System[0] == 'ZipTower' and Lights[0] == \"unknown\"\n",
    "        \n",
    "        if Lights[1] == \"air\":\n",
    "            Lights[2] = System[1]*26  # Number of racks x 26\n",
    "            Lights[3] = 48  # 48W for air-cooled\n",
    "            light_wattage = Lights[2]*Lights[3]/1000  # Lighting kW farm usage qty x wattage\n",
    "            kWh_daily_lights = light_wattage*Lights[4]  # light wattage and hours on per day\n",
    "            lights_daily_costs = kWh_daily_lights*energy_price  # daily kWh x price\n",
    "\n",
    "        else:\n",
    "            Lights[1] == 'water'\n",
    "            Lights[2] = System[1]*10  # Number of racks x 10\n",
    "            Lights[3] = 200  # 200W for water-cooled\n",
    "            light_wattage = Lights[2]*Lights[3]/1000  # Lighting kW farm usage qty x wattage\n",
    "            kWh_daily_lights = light_wattage*Lights[4]  # light wattage and hours on per day\n",
    "            lights_daily_costs = kWh_daily_lights*energy_price  # daily kWh x price\n",
    "            \n",
    "    return lights_daily_costs\n"
   ]
  },
  {
   "cell_type": "code",
   "execution_count": 158,
   "metadata": {},
   "outputs": [
    {
     "name": "stdout",
     "output_type": "stream",
     "text": [
      "94.5\n"
     ]
    }
   ],
   "source": [
    "test = Energy_Lights(iSystem, iLights, ienergy_price)\n",
    "print(test)\n"
   ]
  },
  {
   "cell_type": "code",
   "execution_count": 164,
   "metadata": {},
   "outputs": [],
   "source": [
    "def energy_climate(Climate=iClimate, energy_price=ienergy_price):\n",
    "    \n",
    "    Control_kWh_daily = float(Climate[1, 1])*float(Climate[2, 1])*float(Climate[3, 1])/1000  # System control: Quantity x Watts x Hours /1000\n",
    "    Injector_kWh_daily = float(Climate[1, 2])*float(Climate[2, 2])*float(Climate[3, 2])/1000  # CO2 Injector: Quantity x Watts x Hours /1000\n",
    "    Dehumidifier_kWh_daily = float(Climate[1, 3])*float(Climate[2, 3])*float(Climate[3, 3])/1000  # Dehumidifier: Quantity*Watts*Hours /1000\n",
    "    Fans_kWh_daily = float(Climate[1, 4])*float(Climate[2, 4])*float(Climate[3, 4])/1000  # Inline Fans: Quantity x Watts x Hours /1000\n",
    "    \n",
    "    Climate_energy = Control_kWh_daily + Injector_kWh_daily + Dehumidifier_kWh_daily + Fans_kWh_daily\n",
    "    \n",
    "    daily_cost_climate = Climate_energy * energy_price\n",
    "    return daily_cost_climate\n"
   ]
  },
  {
   "cell_type": "code",
   "execution_count": 165,
   "metadata": {},
   "outputs": [],
   "source": [
    "def energy_plumbing(System=iSystem, Plumbing_kit=iPlumbing, energy_price=ienergy_price):\n",
    "    \n",
    "    if System[0] == 'ZipTower':\n",
    "        if float(System[1]) < float(Plumbing_kit[2]):  # If System rack units is less than Plumbing system capacity\n",
    "            nPlumbing_kits = 1  # number of plumbing kits\n",
    "        \n",
    "        else:\n",
    "            float(System[1]) >= float(Plumbing_kit[2])  # If system rack units is more than or equal to plumbing capacity\n",
    "            nPlumbing_kits = math.ceil(float(System[1])/float(Plumbing_kit[2]))  # Round number System units / plumbing capacity\n",
    "        \n",
    "        Pumps_farm_usage = nPlumbing_kits*float(Plumbing_kit[1])/1000  # kW of Pumps\n",
    "        Pumps_kWh_daily = Pumps_farm_usage*24\n",
    "        Pumps_daily_cost = Pumps_kWh_daily*energy_price\n",
    "        \n",
    "    else:\n",
    "        System[0] != 'unknown'\n",
    "        Pumps_daily_cost = 'unknown'\n",
    "    \n",
    "    return Pumps_daily_cost\n"
   ]
  },
  {
   "cell_type": "code",
   "execution_count": 166,
   "metadata": {},
   "outputs": [],
   "source": [
    "def energy_HVAC(energy_price = ienergy_price, HVAC = iHVAC):  # system design parameters will vary according to location, building and design\n",
    "    \n",
    "    Heating = float(HVAC[1, 1])  # power requirements\n",
    "    Heating_time = float(HVAC[2, 1])\n",
    "    Heating_consumption = Heating*Heating_time/1000  # kWh per day for heating\n",
    "    Ventilation = float(HVAC[1, 2])\n",
    "    Ventilation_time = float(HVAC[2, 2])  # ventilation requirements\n",
    "    Ventilation_consumption = Ventilation*Ventilation_time/1000  # kWh per day for ventilation\n",
    "    AC = float(HVAC[1, 3])  # Air-conditioning power requirements\n",
    "    AC_time = float(HVAC[2,3])\n",
    "    AC_consumption = AC*AC_time/1000  # kWh per day for air-conditioning\n",
    "    \n",
    "    Energy_consumption = Heating_consumption + Ventilation_consumption\n",
    "    Energy_consumption += AC_consumption  # adding on Air-conditioning\n",
    "    costs = Energy_consumption*energy_price  # cost per day\n",
    "    \n",
    "    return costs"
   ]
  },
  {
   "cell_type": "code",
   "execution_count": 169,
   "metadata": {},
   "outputs": [],
   "source": [
    "def energy_seedling(Seedling_kit=iSeedling, energy_price=ienergy_price):  # Should be split up into Pump. Lights and hours.\n",
    "    \n",
    "    Pumps_kWh_daily = float(Seedling_kit[1, 1])*float(Seedling_kit[2, 1])*float(Seedling_kit[3, 1])/1000 # Quantity*Watts*Hours/1000\n",
    "    Lights_kWh_daily = float(Seedling_kit[1, 2])*float(Seedling_kit[2, 2])*float(Seedling_kit[3, 2])/1000  # Quantity x Watts x Hours /1000\n",
    "    \n",
    "    Seedling_total_kWh = Pumps_kWh_daily + Lights_kWh_daily\n",
    "    \n",
    "    daily_cost_seedling = Seedling_total_kWh * energy_price\n",
    "    \n",
    "    return daily_cost_seedling\n"
   ]
  },
  {
   "cell_type": "code",
   "execution_count": 182,
   "metadata": {
    "collapsed": true
   },
   "outputs": [],
   "source": [
    "def energy(\n",
    "        energy_lights=energy_lights(), energy_plumbing=energy_plumbing(), energy_climate=energy_climate(),\n",
    "        energy_HVAC=energy_HVAC(), energy_seedling=energy_seedling(), energy_pricing = ienergy_price, size=iSize\n",
    "        ):  \n",
    "\n",
    "    if energy_lights != \"unknown\": \n",
    "        consumption = energy_lights + energy_plumbing + energy_climate + energy_HVAC + energy_seedling  \n",
    "        # Daily consumption of energy\n",
    "    else:\n",
    "        Energy_Lights == \"unknown\"\n",
    "        energy_demand = size*15  # 14-17 kWh per square-metre average energy for hydroponic factory (Xydis et al, 2017)\n",
    "        consumption = energy_demand * 20  # ASSUME: demand x 20 hours (lights on 18h, climate control & irrigation 24h)\n",
    "    \n",
    "    costs = consumption*energy_pricing  # daily\n",
    "    return costs\n"
   ]
  },
  {
   "cell_type": "code",
   "execution_count": 171,
   "metadata": {},
   "outputs": [],
   "source": [
    "def water(System, RTQ, water_price, size):  # Rack or Tower Quantities\n",
    "    \n",
    "    if System == \"ZipTower\":\n",
    "        water_consumption = RTQ * 0.95 * 30  # Litres of water per tower per day (0.25 gallons) multiplied by month\n",
    "        water_buffer = 1900  # Litres of water for buffer per month (500 gallons)\n",
    "        water_consumption += water_buffer  # Water consumption could be used here.\n",
    "    else:\n",
    "        water_consumptiona = size * 200  # Average from Agrilyst survey - 4 Gallons per sq ft per year\n",
    "        water_consumption = water_consumptiona/12  # consumption per month\n",
    "        \n",
    "    water_cost = water_consumption * water_price  # monthly cost of water\n",
    "    return(water_cost)\n"
   ]
  },
  {
   "cell_type": "code",
   "execution_count": 176,
   "metadata": {},
   "outputs": [],
   "source": [
    "def utilitiesM(energy, water, internet):  # £ per month\n",
    "    cost_of_utilities_monthly = (energy*30) + water + internet\n",
    "    return cost_of_utilities_monthly\n",
    "#  Includes Energy consumption, water consumption, internet\n"
   ]
  },
  {
   "cell_type": "code",
   "execution_count": 177,
   "metadata": {},
   "outputs": [],
   "source": [
    "def annual_costs(energystandingcharge, waterstandingcharge, tax):\n",
    "    costs = energystandingcharge + waterstandingcharge + tax\n",
    "    return costs\n"
   ]
  },
  {
   "cell_type": "code",
   "execution_count": null,
   "metadata": {},
   "outputs": [],
   "source": [
    "def rent(Annual_rent, Size, Location, Location_type): \n",
    "    if Annual_rent == \"unknown\":\n",
    "        print(\"Size: \", Size, \"m^2\")\n",
    "        print(\"Location: \", Location)\n",
    "        print(\"Location Type: \", Location_type)\n",
    "        print('Please enter an annual rent in pounds (£) for the spec')\n",
    "    else:\n",
    "        Monthly_rent = Annual_rent/12 \n",
    "        return Monthly_rent\n",
    "\n"
   ]
  },
  {
   "cell_type": "code",
   "execution_count": 179,
   "metadata": {},
   "outputs": [],
   "source": [
    "# def ShipPack\n"
   ]
  },
  {
   "cell_type": "code",
   "execution_count": 181,
   "metadata": {},
   "outputs": [
    {
     "ename": "SyntaxError",
     "evalue": "invalid syntax (<ipython-input-181-f1067b27c98d>, line 10)",
     "traceback": [
      "\u001b[0;36m  File \u001b[0;32m\"<ipython-input-181-f1067b27c98d>\"\u001b[0;36m, line \u001b[0;32m10\u001b[0m\n\u001b[0;31m    OpEx +=\u001b[0m\n\u001b[0m           ^\u001b[0m\n\u001b[0;31mSyntaxError\u001b[0m\u001b[0;31m:\u001b[0m invalid syntax\n"
     ],
     "output_type": "error"
    }
   ],
   "source": [
    "OpEx: int = 0\n",
    "# def OpEx(days,Labour,Shipping,Utilities,Rent,Inputs,Packaging,Misc)\n",
    "days = 365\n",
    "for i in range(days):\n",
    "    if i % 30 == 0:\n",
    "        OpEx += labour(iSize, iStaff) \n",
    "        OpEx += rent(iAnnual_rent, iSize, iLocation, iLocation_type)\n",
    "        OpEx += utilitiesM(energy(),water(),internet)\n",
    "        OpEx += consumables(nutrients, seeds, grow_media)\n",
    "        OpEx +=\n",
    "    else: i % 365 == 0 \n",
    "    OpEx += annualcosts(ienergystandingcharge,iwaterstandingcharge,itax)\n",
    "    \n",
    "print(OpEx) \n",
    "\n",
    "\n",
    "# Operations = Labour + Shipping +Utilities + Rent + Inputs + Packaging\n",
    "# Inputs = Seeds + Nutrients + Grow Media"
   ]
  },
  {
   "cell_type": "code",
   "execution_count": null,
   "metadata": {},
   "outputs": [],
   "source": [
    ""
   ]
  }
 ],
 "metadata": {
  "kernelspec": {
   "display_name": "Python 3",
   "language": "python",
   "name": "python3"
  },
  "language_info": {
   "codemirror_mode": {
    "name": "ipython",
    "version": 3
   },
   "file_extension": ".py",
   "mimetype": "text/x-python",
   "name": "python",
   "nbconvert_exporter": "python",
   "pygments_lexer": "ipython3",
   "version": "3.7.2"
  }
 },
 "nbformat": 4,
 "nbformat_minor": 1
}
