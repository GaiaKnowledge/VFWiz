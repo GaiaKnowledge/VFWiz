{
 "cells": [
  {
   "cell_type": "code",
   "execution_count": null,
   "metadata": {
    "collapsed": true
   },
   "outputs": [],
   "source": [
    "import numpy as np\n",
    "import matplotlib.pyplot as plt"
   ]
  },
  {
   "cell_type": "code",
   "execution_count": 73,
   "metadata": {
    "collapsed": true
   },
   "outputs": [],
   "source": [
    "## Input variables are iVariables\n",
    "\n",
    "iName = \"UTC\"\n",
    "iLocation = \"Liverpool\"\n",
    "iLocation_type = \"Urban\" #Urban, Semi-urban or rural\n",
    "iSize = 20 #square-metres\n",
    "iStaff = 0 #not sure how many staff or hours\n",
    "iStart = \"01/04/2019\"\n",
    "iType = \"Indoor\"\n",
    "iSystem = 'ZipTowers'\n",
    "iAnnual_rent = 23000 #in outreach\n",
    "iRTQ = 80\n",
    "iwater_price = 3.20/1000 #United utilities £3.20 per 1000 UK litres\n",
    "iwaterstandingcharge =  63.77 #United utilities £63.77 standing charge\n",
    "ienergy_price = 0.125 #UK-Power 12.5p per kWH\n",
    "ienergystandingcharge = 85 #£85 standing charge\n",
    "itax = 0 # Council tax\n",
    "iinternet = 0 # Cost of internet per month"
   ]
  },
  {
   "cell_type": "code",
   "execution_count": 61,
   "metadata": {},
   "outputs": [],
   "source": []
  },
  {
   "cell_type": "code",
   "execution_count": null,
   "metadata": {},
   "outputs": [],
   "source": [
    "def labour(size,staff):\n",
    "    \n",
    "    if staff == 0:\n",
    "        staff = 0.0155004*size \n",
    "        #0.00144/sq-ft or 0.00007sq-ft for greenhouses\n",
    "    else:\n",
    "        staff = staff        \n",
    "    if size < 930: #square-meters\n",
    "        wages = 10229.63*staff #$13348.60 per person\n",
    "    else:\n",
    "        size > 930 #square-metres\n",
    "        wages = 19866.07*staff #$25923.14 per person\n",
    "    monthly_wages = wages/12\n",
    "    return(monthly_wages)"
   ]
  },
  {
   "cell_type": "code",
   "execution_count": 80,
   "metadata": {},
   "outputs": [
    {
     "name": "stdout",
     "output_type": "stream",
     "text": [
      "264.27226142\n"
     ]
    }
   ],
   "source": [
    "test = labour(iSize, iStaff)\n",
    "print(test)"
   ]
  },
  {
   "cell_type": "code",
   "execution_count": null,
   "metadata": {},
   "outputs": [],
   "source": [
    "def Energy_Lights\n",
    "\n",
    "    # if System == \"ZipTower\"\n",
    "    #     water_consumption = RTQ * 0.95 * 30 #Litres of water per tower per day (0.25 gallons) multiplied by month\n",
    "    #     water_buffer = 1900 #Litres of water for buffer per month (500 gallons)\n",
    "    #     water_consumption += water_buffer #Water consumption could be used here.\n",
    "    #     water_cost = water_consumption * water_price #Cost of water per month\n",
    "    #     return(water_cost) #water cost per month\n",
    "    # else:\n",
    "    #     water_consumptiona = size * 200 #Average from Agrilyst survey - 4 Gallons per sq ft per year\n",
    "    #     water_consumption = water_consumptiona/12 # consumption per month\n",
    "    #     water_cost = water_consumption * water_price #monthly cost of water\n",
    "    #     return(water_cost)\n",
    "    "
   ]
  },
  {
   "cell_type": "code",
   "execution_count": null,
   "metadata": {},
   "outputs": [],
   "source": [
    "def Energy_Climate"
   ]
  },
  {
   "cell_type": "code",
   "execution_count": null,
   "metadata": {},
   "outputs": [],
   "source": [
    "def Energy_Plumbing"
   ]
  },
  {
   "cell_type": "code",
   "execution_count": null,
   "metadata": {},
   "outputs": [],
   "source": [
    "def Energy_HVAC"
   ]
  },
  {
   "cell_type": "code",
   "execution_count": null,
   "metadata": {},
   "outputs": [],
   "source": [
    "def Energy_Seedling"
   ]
  },
  {
   "cell_type": "code",
   "execution_count": 84,
   "metadata": {},
   "outputs": [
    {
     "ename": "SyntaxError",
     "evalue": "invalid syntax (<ipython-input-84-0e4b28d728bf>, line 1)",
     "output_type": "error",
     "traceback": [
      "\u001b[0;36m  File \u001b[0;32m\"<ipython-input-84-0e4b28d728bf>\"\u001b[0;36m, line \u001b[0;32m1\u001b[0m\n\u001b[0;31m    def Energy(Energy_Lights, Energy_Plumbing, Energy_Climate, Energy_HVAC, Energy_Seedling, Energy_pricing, size) # Rack or Tower Quantities\u001b[0m\n\u001b[0m                                                                                                                                             ^\u001b[0m\n\u001b[0;31mSyntaxError\u001b[0m\u001b[0;31m:\u001b[0m invalid syntax\n"
     ]
    }
   ],
   "source": [
    "def Energy(Energy_Lights, Energy_Plumbing, Energy_Climate, Energy_HVAC, Energy_Seedling, Energy_pricing, size): # Rack or Tower Quantities\n",
    "     if Energy_Lights =! \"unknown\": \n",
    "        consumption = Energy_Lights + Energy_Plumbing + Energy_Climate + Energy_Plumbing + Energy_HVAC + Energy_Seedling #Daily consumption of energy\n",
    "        costs = consumption * Energy_pricing\n",
    "        return(costs)\n",
    "     \n",
    "     else:\n",
    "        Energy_Lights == \"unknown\"\n",
    "        energy_demand = size*15 # 14-17 kWh per square-metre average energy for hydroponic plant factory (Xydis et al, 2017)\n",
    "        consumption = energy_demand * 20 # ASSUMPTION: demand x 20 hours (as lights are run 18h, climate control and irrigation 24h)\n",
    "        costs = consumption*Energy_pricing*30 # Monthly cost\n",
    "        return(costs)"
   ]
  },
  {
   "cell_type": "code",
   "execution_count": 63,
   "metadata": {},
   "outputs": [],
   "source": [
    "def Water(System,RTQ,water_price,size) # Rack or Tower Quantities\n",
    "    \n",
    "    if System == \"ZipTower\"\n",
    "        water_consumption = RTQ * 0.95 * 30 #Litres of water per tower per day (0.25 gallons) multiplied by month\n",
    "        water_buffer = 1900 #Litres of water for buffer per month (500 gallons)\n",
    "        water_consumption += water_buffer #Water consumption could be used here.\n",
    "        water_cost = water_consumption * water_price #Cost of water per month\n",
    "        return(water_cost) #water cost per month\n",
    "    else:\n",
    "        water_consumptiona = size * 200 #Average from Agrilyst survey - 4 Gallons per sq ft per year\n",
    "        water_consumption = water_consumptiona/12 # consumption per month\n",
    "        water_cost = water_consumption * water_price #monthly cost of water\n",
    "        return(water_cost)"
   ]
  },
  {
   "cell_type": "code",
   "execution_count": 64,
   "metadata": {},
   "outputs": [],
   "source": [
    "def utilitiesM(Energy, Water, Internet, Carbon): #£ per month\n",
    "    cost_of_utilities_monthly = Energy + Water + Internet + Carbon\n",
    "    return\n",
    "# Includes Energy consumption, water consumption, internet"
   ]
  },
  {
   "cell_type": "code",
   "execution_count": null,
   "metadata": {},
   "outputs": [],
   "source": [
    "def annualcosts(energystandingcharge,waterstandingcharge,tax)\n",
    "    costs = energystandingcharge + waterstandingcharge + tax\n",
    "    return(costs)"
   ]
  },
  {
   "cell_type": "code",
   "execution_count": 77,
   "metadata": {},
   "outputs": [],
   "source": [
    "def rent(Annual_rent,Size,Location,Location_type): \n",
    "    if Annual_rent == \"unknown\":\n",
    "        print(\"Size: \", Size, \"m^2\")\n",
    "        print(\"Location: \", Location)\n",
    "        print(\"Location Type: \", Location_type)\n",
    "        print('Please enter an annual rent in pounds (£) for the spec')\n",
    "    else:\n",
    "        Monthly_rent = Annual_rent/12 \n",
    "    return(Monthly_rent)"
   ]
  },
  {
   "cell_type": "code",
   "execution_count": 78,
   "metadata": {},
   "outputs": [
    {
     "name": "stdout",
     "output_type": "stream",
     "text": [
      "1916.6666666666667\n"
     ]
    }
   ],
   "source": [
    "test = rent(iAnnual_rent, iSize, iLocation, iLocation_type)\n",
    "print(test)\n"
   ]
  },
  {
   "cell_type": "code",
   "execution_count": 67,
   "metadata": {},
   "outputs": [],
   "source": [
    "# def ShipPack"
   ]
  },
  {
   "cell_type": "code",
   "execution_count": 79,
   "metadata": {},
   "outputs": [
    {
     "name": "stdout",
     "output_type": "stream",
     "text": [
      "28352.206065126666\n"
     ]
    }
   ],
   "source": [
    "OpEx: int = 0\n",
    "#def OpEx(days,Labour,Shipping,Utilities,Rent,Inputs,Packaging,Misc)\n",
    "days = 365\n",
    "for i in range(days):\n",
    "    if i % 30 == 0:\n",
    "        OpEx += labour(iSize, iStaff) \n",
    "        OpEx += rent(iAnnual_rent, iSize, iLocation, iLocation_type)\n",
    "        OpEx += utilitiesM(Energy,Water,Internet, Carbon)\n",
    "        OpEx +=\n",
    "        OpEx +=\n",
    "    else: i % 365 == 0 \n",
    "        OpEx += annualcosts(ienergystandingcharge,iwaterstandingcharge,itax)\n",
    "print(OpEx) \n",
    "\n",
    "\n",
    "#Operations = Labour + Shipping +Utilities + Rent + Inputs + Packaging\n",
    "#Inputs = Seeds + Nutrients + Grow Media"
   ]
  },
  {
   "cell_type": "code",
   "execution_count": null,
   "metadata": {},
   "outputs": [],
   "source": []
  },
  {
   "cell_type": "code",
   "execution_count": 69,
   "metadata": {},
   "outputs": [],
   "source": []
  }
 ],
 "metadata": {
  "kernelspec": {
   "display_name": "Python 3",
   "language": "python",
   "name": "python3"
  },
  "language_info": {
   "codemirror_mode": {
    "name": "ipython",
    "version": 3
   },
   "file_extension": ".py",
   "mimetype": "text/x-python",
   "name": "python",
   "nbconvert_exporter": "python",
   "pygments_lexer": "ipython3",
   "version": "3.7.2"
  }
 },
 "nbformat": 4,
 "nbformat_minor": 1
}
